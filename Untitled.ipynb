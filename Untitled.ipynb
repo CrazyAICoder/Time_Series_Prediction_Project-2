{
 "cells": [
  {
   "cell_type": "code",
   "execution_count": 2,
   "metadata": {},
   "outputs": [
    {
     "name": "stdout",
     "output_type": "stream",
     "text": [
      "Collecting lightgbm\n",
      "\u001b[?25l  Downloading https://files.pythonhosted.org/packages/21/d1/7773d81964183f6892f71cf43b92f90d0bb8c954c05651d5071a2b480420/lightgbm-2.3.1-py2.py3-none-macosx_10_9_x86_64.macosx_10_10_x86_64.macosx_10_11_x86_64.macosx_10_12_x86_64.macosx_10_13_x86_64.macosx_10_14_x86_64.macosx_10_15_x86_64.whl (679kB)\n",
      "\u001b[K     |████████████████████████████████| 686kB 2.0MB/s eta 0:00:01\n",
      "\u001b[?25hRequirement already satisfied: scikit-learn in /Users/jafen/anaconda3/lib/python3.7/site-packages (from lightgbm) (0.21.3)\n",
      "Requirement already satisfied: scipy in /Users/jafen/anaconda3/lib/python3.7/site-packages (from lightgbm) (1.3.1)\n",
      "Requirement already satisfied: numpy in /Users/jafen/anaconda3/lib/python3.7/site-packages (from lightgbm) (1.17.2)\n",
      "Requirement already satisfied: joblib>=0.11 in /Users/jafen/anaconda3/lib/python3.7/site-packages (from scikit-learn->lightgbm) (0.13.2)\n",
      "Installing collected packages: lightgbm\n",
      "Successfully installed lightgbm-2.3.1\n"
     ]
    }
   ],
   "source": [
    "!pip install lightgbm"
   ]
  },
  {
   "cell_type": "code",
   "execution_count": 21,
   "metadata": {},
   "outputs": [
    {
     "name": "stdout",
     "output_type": "stream",
     "text": [
      "For value B we predict 0.9999999999998863, result False\n",
      "For value D we predict 1000.0, result True\n",
      "For value A we predict 1.0, result True\n",
      "For value E we predict 100.0, result True\n",
      "For value D we predict 1000.0, result True\n",
      "For value C we predict 10.0, result True\n",
      "For value B we predict 0.9999999999998863, result False\n",
      "For value D we predict 1000.0, result True\n",
      "For value E we predict 100.0, result True\n"
     ]
    }
   ],
   "source": [
    "import pandas as pd\n",
    "import lightgbm as lgb\n",
    "\n",
    "truth = {\n",
    "    'A':1.0,\n",
    "    'B':None,\n",
    "    'C':10.0,\n",
    "    'E':100.0,\n",
    "    'D':1000.0\n",
    "}\n",
    "\n",
    "\n",
    "train_data = pd.DataFrame([{'l': 'A'}, {'l': 'C'}, {'l': 'E'},{'l': 'D'}] * 3)\n",
    "train_data['l'] = train_data['l'].astype('category')\n",
    "targets = pd.Series([1, 10, 100,1000] * 3)\n",
    "model = lgb.train({'learning_rate': 1, 'min_child_samples': 1}, lgb.Dataset(train_data, label=targets), categorical_feature=['l'])\n",
    "\n",
    "test_data = pd.DataFrame([{'l': 'B'}, {'l': 'D'}, {'l': 'A'}, {'l': 'E'}, {'l': 'D'}, {'l': 'C'}, {'l': 'B'}, {'l': 'D'}, {'l': 'E'}])\n",
    "test_data['l'] = test_data['l'].astype('category')\n",
    "predictions = model.predict(test_data)\n",
    "for i in range(len(test_data['l'])):\n",
    "    print(f\"For value {test_data['l'].loc[i]} we predict {predictions[i]}, result {predictions[i]==truth[test_data['l'].loc[i]]}\")"
   ]
  },
  {
   "cell_type": "code",
   "execution_count": null,
   "metadata": {},
   "outputs": [],
   "source": []
  }
 ],
 "metadata": {
  "kernelspec": {
   "display_name": "Python 3",
   "language": "python",
   "name": "python3"
  },
  "language_info": {
   "codemirror_mode": {
    "name": "ipython",
    "version": 3
   },
   "file_extension": ".py",
   "mimetype": "text/x-python",
   "name": "python",
   "nbconvert_exporter": "python",
   "pygments_lexer": "ipython3",
   "version": "3.7.4"
  }
 },
 "nbformat": 4,
 "nbformat_minor": 4
}
